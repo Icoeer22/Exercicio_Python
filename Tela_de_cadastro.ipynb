{
  "nbformat": 4,
  "nbformat_minor": 0,
  "metadata": {
    "colab": {
      "name": "Untitled0.ipynb",
      "provenance": [],
      "toc_visible": true
    },
    "kernelspec": {
      "name": "python3",
      "display_name": "Python 3"
    },
    "language_info": {
      "name": "python"
    }
  },
  "cells": [
    {
      "cell_type": "markdown",
      "metadata": {
        "id": "OAQ2MbdKndk0"
      },
      "source": [
        "Ele não está inicializando pelo Google Colab, mas se utilizar de outra ferramenta que não seja no navegador, exemplo o Pycharm, ele irá funcionar normalmente"
      ]
    },
    {
      "cell_type": "markdown",
      "metadata": {
        "id": "Drmd-013KSWu"
      },
      "source": [
        "Iniciamos o código importando as bibliotecas que usaremos.\n",
        "a biblioteca PySimpleGui será utilizado para criar as janelas e as caixas de textos, e a biblioteca time será utilizada para dar um delay para as trocas de telas."
      ]
    },
    {
      "cell_type": "code",
      "metadata": {
        "id": "6AT40rz2Jv4Y",
        "colab": {
          "base_uri": "https://localhost:8080/",
          "height": 316
        },
        "outputId": "41e650f8-91ac-4280-c112-3746b53ce008"
      },
      "source": [
        "from PySimpleGUI import PySimpleGUI as sg\n",
        "from time import sleep\n"
      ],
      "execution_count": 12,
      "outputs": [
        {
          "output_type": "error",
          "ename": "ModuleNotFoundError",
          "evalue": "ignored",
          "traceback": [
            "\u001b[0;31m---------------------------------------------------------------------------\u001b[0m",
            "\u001b[0;31mModuleNotFoundError\u001b[0m                       Traceback (most recent call last)",
            "\u001b[0;32m<ipython-input-12-780b5c839429>\u001b[0m in \u001b[0;36m<module>\u001b[0;34m()\u001b[0m\n\u001b[0;32m----> 1\u001b[0;31m \u001b[0;32mfrom\u001b[0m \u001b[0mPySimpleGUI\u001b[0m \u001b[0;32mimport\u001b[0m \u001b[0mPySimpleGUI\u001b[0m \u001b[0;32mas\u001b[0m \u001b[0msg\u001b[0m\u001b[0;34m\u001b[0m\u001b[0;34m\u001b[0m\u001b[0m\n\u001b[0m\u001b[1;32m      2\u001b[0m \u001b[0;32mfrom\u001b[0m \u001b[0mtime\u001b[0m \u001b[0;32mimport\u001b[0m \u001b[0msleep\u001b[0m\u001b[0;34m\u001b[0m\u001b[0;34m\u001b[0m\u001b[0m\n",
            "\u001b[0;31mModuleNotFoundError\u001b[0m: No module named 'PySimpleGUI'",
            "",
            "\u001b[0;31m---------------------------------------------------------------------------\u001b[0;32m\nNOTE: If your import is failing due to a missing package, you can\nmanually install dependencies using either !pip or !apt.\n\nTo view examples of installing some common dependencies, click the\n\"Open Examples\" button below.\n\u001b[0;31m---------------------------------------------------------------------------\u001b[0m\n"
          ]
        }
      ]
    },
    {
      "cell_type": "markdown",
      "metadata": {
        "id": "acuqizMFKlOP"
      },
      "source": [
        "Escolhemos um tema para o projeto, ou seja, a palheta de cores que será utilizada na janela."
      ]
    },
    {
      "cell_type": "code",
      "metadata": {
        "id": "Wa0sbfBcKkVj"
      },
      "source": [
        "#definir tema\n",
        "sg.theme('Topanga')"
      ],
      "execution_count": 5,
      "outputs": []
    },
    {
      "cell_type": "markdown",
      "metadata": {
        "id": "w4hPHT7gLI-J"
      },
      "source": [
        "Criamos uma função com o layout da janela principal, juntamente das caixas de texto que serão mostradas ao usuário. Nas caixas de texto configuramos os textos que serão mostrados anteriormente, e o tamanho que deverá ser mostrado.\n"
      ]
    },
    {
      "cell_type": "code",
      "metadata": {
        "id": "U4B3vW6sK3Zk"
      },
      "source": [
        "def janela_principal():\n",
        "    layout_principal = [\n",
        "        [sg.Text('Nome'), sg.Input(key= \"nome\", size=(30, 20))],\n",
        "        [sg.Text('Sobrenome'), sg.Input(key= \"sobrenome\",size=(30, 20))],\n",
        "        [sg.Text('Idade'), sg.Input(key=\"idade\",size=(30, 20))],\n",
        "        [sg.Text('CPF'), sg.Input(key=\"cpf\",size=(30, 20) )],\n",
        "        [sg.Text('Sexo: '),sg.Checkbox('Homem', key= 'man'), sg.Checkbox('Mulher', key='mul')],\n",
        "        [sg.Text('Número Telefonico'), sg.Input(key=\"ntelefonico\",size=(30, 20))],\n",
        "        [sg.Button('Finalizar')]\n",
        "    ]\n"
      ],
      "execution_count": null,
      "outputs": []
    },
    {
      "cell_type": "markdown",
      "metadata": {
        "id": "SHrWnM_RLApB"
      },
      "source": [
        "Retornamos uma janela, com o nome da janela sendo \"Tela Cadastro\", o layout dessa tela será o layout principal, referente a função janela principal, e também definimos a margem da janela. Usamos o finalize para não ocorrer travamentos com widgets ainda não criados."
      ]
    },
    {
      "cell_type": "code",
      "metadata": {
        "id": "LWrF46IIK4AN"
      },
      "source": [
        "    return sg.Window('Tela de Cadastro', layout_principal, margins=(0, 10), finalize= True )\n"
      ],
      "execution_count": 8,
      "outputs": []
    },
    {
      "cell_type": "markdown",
      "metadata": {
        "id": "yk3-b83uLEtT"
      },
      "source": [
        "Criamos uma função com o layout da janela que aparecerá após a janela de cadastro, que perguntará ao usuário se ele deseja continuar as operações, ou deseja encerrar o programa."
      ]
    },
    {
      "cell_type": "code",
      "metadata": {
        "id": "GUygfRJlK7Uz"
      },
      "source": [
        "def janela_pos_cad():\n",
        "    layout_pos_cad = [\n",
        "        [sg.Text('Obrigado por cadastrar mais uma pessoa!')],\n",
        "        [sg.Text('Gostaria de cadastrar mais alguem?')],\n",
        "        [sg.Button('SIM'), sg.Button('NÃO')]\n",
        "\n",
        "    ]"
      ],
      "execution_count": null,
      "outputs": []
    },
    {
      "cell_type": "markdown",
      "metadata": {
        "id": "Ga4a8YfVLEgZ"
      },
      "source": [
        "Retornamos uma janela, com o nome da janela sendo \"Pós Cadastro\" e também definimos a margem da janela. Usamos o finalize para não ocorrer travamentos com widgets ainda não criados."
      ]
    },
    {
      "cell_type": "code",
      "metadata": {
        "id": "0_c3MtTmK9Hn"
      },
      "source": [
        "    return sg.Window(\"Pós Cadastro\", layout_pos_cad, margins= (100, 50), finalize= True)\n"
      ],
      "execution_count": 9,
      "outputs": []
    },
    {
      "cell_type": "markdown",
      "metadata": {
        "id": "AsToqIxkWIZ7"
      },
      "source": [
        "definimos que a \"janela1\" é igual a janela principal, enquanto a \"janela2\" não será nada. "
      ]
    },
    {
      "cell_type": "code",
      "metadata": {
        "id": "3RBBZ9KdVWzO"
      },
      "source": [
        "janela1, janela2 = janela_principal(), None\n"
      ],
      "execution_count": null,
      "outputs": []
    },
    {
      "cell_type": "markdown",
      "metadata": {
        "id": "LiFlNzJAWHe6"
      },
      "source": [
        "Criamos um loop utilizando \"while\", começando lendo os eventos e janelas e abrindo-as, e depois nós usamos condicionais \"if\" para definir que medidas devem ser tomadas dependendo das ações dadas ao programa. \n",
        "No primeiro if nós verificamos se a janela que está sendo lida é a \"janela1\" e e o evento for botão de finalizar execução, fechamos o programa.\n",
        "O segundo If verificamos se a a janela que está lida é a \"janela1\" e o evento for o clique do botão de finalizar, então escondemos a \"janela1\" e limpamos os campos da mesma, e iniciamos a \"janela2\", defindo \"janela2\" como \"janela_pos_cad\".\n",
        "Os próximos dois if decidirão o que irá acontecer de acordo com a escolha de sim e não. A opção Não fecha o programa e assim retorna a janela 1, e esconde a janela 2.  "
      ]
    },
    {
      "cell_type": "code",
      "metadata": {
        "id": "glSAijEbVc5R"
      },
      "source": [
        "while True:\n",
        "    window, event, values = sg.read_all_windows()\n",
        "    if window == janela1 and event == sg.WINDOW_CLOSED:\n",
        "        break\n",
        "    if window == janela1 and event == 'Finalizar':\n",
        "        janela1.hide()\n",
        "        sleep(0.5)\n",
        "        janela1.FindElement('nome').Update('')\n",
        "        janela1.FindElement('sobrenome').Update('')\n",
        "        janela1.FindElement('idade').Update('')\n",
        "        janela1.FindElement('cpf').Update('')\n",
        "        janela1.FindElement('ntelefonico').Update('')\n",
        "        janela1.FindElement('man').Update(False)\n",
        "        janela1.FindElement('mul').Update(False)\n",
        "        janela2 = janela_pos_cad()\n",
        "\n",
        "    if window == janela2 and event == 'NÃO':\n",
        "        break\n",
        "    if window == janela2 and event == 'SIM':\n",
        "        janela2.hide()\n",
        "        sleep(0.5)\n",
        "        janela1.un_hide()\n"
      ],
      "execution_count": null,
      "outputs": []
    },
    {
      "cell_type": "markdown",
      "metadata": {
        "id": "Ouwk2pxQWG2g"
      },
      "source": [
        "Opnião do Aluno Pablo Augusto de Quadros: Eu já conheço a linguagem a alguns anos, e mesmo não trabalhando com ela tenho interesse, por conta da área de machine learning e inteligência artifical. Gosto de sua maneira simples de escrever o código."
      ]
    },
    {
      "cell_type": "markdown",
      "metadata": {
        "id": "EPdlOjmNkwnK"
      },
      "source": [
        "Opnião do Aluno Bernardo Henrique Gaya: Como alguém leigo na utilização de Phyton achei uma linguagem extremamente flexivel em sua utilização, além de achar relativamente simples e fácil de entender o que está sendo feito, isso me interessou a continuar aprendendo sobre a linguagem."
      ]
    }
  ]
}